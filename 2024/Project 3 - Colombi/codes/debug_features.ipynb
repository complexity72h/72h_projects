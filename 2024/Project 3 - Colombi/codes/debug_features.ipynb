{
 "cells": [
  {
   "cell_type": "code",
   "execution_count": 1,
   "id": "b8687ce7-a39e-4411-bee0-dfb01d05a384",
   "metadata": {},
   "outputs": [],
   "source": [
    "schema = 'ds_data_for_complexity'"
   ]
  },
  {
   "cell_type": "code",
   "execution_count": 2,
   "id": "29e65971-3e5d-47b8-b146-5d79c43432e6",
   "metadata": {},
   "outputs": [],
   "source": [
    "import pandas as pd\n",
    "from datetime import datetime\n",
    "import numpy as np\n",
    "import seaborn as sns\n",
    "from scipy import stats\n",
    "from keplergl import KeplerGl\n",
    "\n",
    "import matplotlib.pyplot as plt\n",
    "import matplotlib.dates as mdates\n",
    "from matplotlib.ticker import ScalarFormatter\n",
    "\n",
    "import geohash2\n",
    "import json"
   ]
  },
  {
   "cell_type": "code",
   "execution_count": 3,
   "id": "f3de0756-8073-42b5-a757-e7ee6a98ee03",
   "metadata": {},
   "outputs": [],
   "source": [
    "# SQL engine\n",
    "from trino.dbapi import connect \n",
    "from sqlalchemy import create_engine\n",
    "\n",
    "class TrinoEngine():\n",
    "    def __init__(self):\n",
    "        conn = connect(\n",
    "            host=\"localhost\",\n",
    "            port=9090,\n",
    "            catalog=\"cuebiq\"\n",
    "        )\n",
    "        self.cur = conn.cursor()\n",
    "        self.engine = create_engine(\"trino://localhost:9090/cuebiq/\")\n",
    "    \n",
    "    def execute_statement(self, query:str) -> list:\n",
    "        \"\"\"\n",
    "        Create and drop statements.\n",
    "        \"\"\"\n",
    "        self.cur.execute(query)\n",
    "        return self.cur.fetchall()\n",
    "    \n",
    "    def read_sql(self, query:str) -> pd.DataFrame: \n",
    "        \"\"\"\n",
    "        Select and insert into operations.\n",
    "        \"\"\"\n",
    "        return pd.read_sql(query, self.engine)\n",
    "\n",
    "sql_engine = TrinoEngine()"
   ]
  },
  {
   "cell_type": "code",
   "execution_count": 4,
   "id": "8034f30c-6576-4728-88f9-83657dbde5c0",
   "metadata": {},
   "outputs": [],
   "source": [
    "pd.set_option('display.max_columns', None)\n",
    "pd.set_option('display.max_colwidth', None)\n",
    "pd.set_option('display.max_rows', None)"
   ]
  },
  {
   "cell_type": "code",
   "execution_count": 5,
   "id": "1dcfc1a2-2eed-4eba-9be8-1633587e86cc",
   "metadata": {},
   "outputs": [],
   "source": [
    "folder_name = f'dedicated.{schema}'\n",
    "stops_table_name = f'dedicated.{schema}.selected_stops_limited'\n",
    "device_location_table_name = f'dedicated.{schema}.device_location_and_stops_subsampled'\n",
    "dev_loc_model = f'dedicated.{schema}.device_location_and_stops_for_model_part3_geo8_space_time_vers2'\n",
    "\n",
    "dev_loc_model = f'dedicated.{schema}.device_location_and_stops_forreal_forreal'\n"
   ]
  },
  {
   "cell_type": "code",
   "execution_count": null,
   "id": "6dc51fa8-3ae0-4b44-876f-dcb32022aa1a",
   "metadata": {},
   "outputs": [],
   "source": []
  },
  {
   "cell_type": "code",
   "execution_count": 8,
   "id": "eb88495a-b663-4963-821b-156f63f5bfff",
   "metadata": {},
   "outputs": [],
   "source": [
    "lineage_id = 9223372032225847377\n",
    "date = 20240315"
   ]
  },
  {
   "cell_type": "code",
   "execution_count": 9,
   "id": "e6fe989b-ae1f-4818-9314-aa842f45b377",
   "metadata": {},
   "outputs": [],
   "source": [
    "device_loc_stops = sql_engine.read_sql(f\"\"\"\n",
    "select *\n",
    "from {dev_loc_model}\n",
    "where lineage_id = {lineage_id}\n",
    "    and event_date = {date}\n",
    "\"\"\")#[['lineage_id','event_timestamp','lat','lng','geohash_level_8','stop_class', 'stop_id']]\n",
    "\n",
    "device_loc_stops['datetime'] = pd.to_datetime(device_loc_stops['event_timestamp'], unit='s')"
   ]
  },
  {
   "cell_type": "code",
   "execution_count": 10,
   "id": "09d15a1c-c410-4fd0-8ebd-8157ad7754f5",
   "metadata": {},
   "outputs": [],
   "source": [
    "stops = sql_engine.read_sql(f\"\"\"\n",
    "select *, substr(geohash, 1, 8) AS geohash_level_8\n",
    "from {stops_table_name}\n",
    "where lineage_id = {lineage_id}\n",
    "    and event_date = {date}\n",
    "    and id_type != 'GAID'  \n",
    "\"\"\")[['lineage_id', 'stop_id','stop_start_unix_timestamp','dwell_time_minutes','geohash_level_8','lat','lng']]\n",
    "stop_geohashes = stops.drop(columns=['lat','lng']).copy()"
   ]
  },
  {
   "cell_type": "code",
   "execution_count": 11,
   "id": "38d3960c-187f-4e4f-8946-db92a8dcb5ee",
   "metadata": {},
   "outputs": [
    {
     "data": {
      "text/plain": [
       "num_of_individual_stops_last_hour    6\n",
       "dtype: int64"
      ]
     },
     "execution_count": 11,
     "metadata": {},
     "output_type": "execute_result"
    }
   ],
   "source": [
    "device_loc_stops[['num_of_individual_stops_last_hour']].sum()"
   ]
  },
  {
   "cell_type": "code",
   "execution_count": 12,
   "id": "7d5b24bf-84e4-40d1-af5f-d893572b9abf",
   "metadata": {},
   "outputs": [],
   "source": [
    "def geohash_to_geojson(geohash):\n",
    "    # Decode the geohash to get the bounding box\n",
    "    lat, lon, lat_err, lon_err = geohash2.decode_exactly(geohash)\n",
    "    lat_min = lat - lat_err\n",
    "    lat_max = lat + lat_err\n",
    "    lon_min = lon - lon_err\n",
    "    lon_max = lon + lon_err\n",
    "\n",
    "    # Create the GeoJSON polygon\n",
    "    polygon = {\n",
    "        \"type\": \"Feature\",\n",
    "        \"geometry\": {\n",
    "            \"type\": \"Polygon\",\n",
    "            \"coordinates\": [[\n",
    "                [lon_min, lat_min],\n",
    "                [lon_min, lat_max],\n",
    "                [lon_max, lat_max],\n",
    "                [lon_max, lat_min],\n",
    "                [lon_min, lat_min]\n",
    "            ]]\n",
    "        },\n",
    "        \"properties\": {\n",
    "            \"geohash\": geohash\n",
    "        }\n",
    "    }\n",
    "    return polygon\n",
    "\n",
    "stop_geohashes['geojson'] = stop_geohashes['geohash_level_8'].apply(geohash_to_geojson)"
   ]
  },
  {
   "cell_type": "code",
   "execution_count": 13,
   "id": "8d7bea46-a00b-4344-b5ed-e8831f89d49c",
   "metadata": {
    "tags": []
   },
   "outputs": [],
   "source": [
    "# 1. Create Layer Configuration (Simplified)\n",
    "layer_config_points = {\n",
    "     'type': 'point',\n",
    "     'config': {'dataId': 'Points',\n",
    "      'label': 'Points',\n",
    "      'color': [255, 0, 0],\n",
    "      'columns': {'lat': 'lat', 'lng': 'lng', 'altitude': None},\n",
    "      'isVisible': True,\n",
    "      'visConfig': {'radius': 3,\n",
    "       'fixedRadius': False,\n",
    "       'opacity': 0.5,\n",
    "       'outline': False,\n",
    "       'thickness': 2,\n",
    "       'strokeColor': None,\n",
    "       'filled': True},\n",
    "      'hidden': False}\n",
    "}\n",
    "layer_config_stops = {\n",
    "     'type': 'point',\n",
    "     'config': {'dataId': 'Stops',\n",
    "      'label': 'Stops',\n",
    "      'color': [0, 200, 0],\n",
    "      'columns': {'lat': 'lat', 'lng': 'lng', 'altitude': None},\n",
    "      'isVisible': True,\n",
    "      'visConfig': {'radius': 10,\n",
    "       'fixedRadius': False,\n",
    "       'opacity': 0.2,\n",
    "       'outline': False,\n",
    "       'thickness': 2,\n",
    "       'strokeColor': None,\n",
    "       'filled': True},\n",
    "      'hidden': False}\n",
    "}\n",
    "layer_config_stops_geohash = {\n",
    "     'type': 'geojson',\n",
    "     'config': {'dataId': 'Geohash',\n",
    "      'label': 'Geohash',\n",
    "      'color': [255, 254, 230],\n",
    "      'highlightColor': [252, 242, 26, 255],\n",
    "      'columns': {'geojson': 'geojson'},\n",
    "      'isVisible': True,\n",
    "      'visConfig': {'opacity': 0,\n",
    "       'strokeOpacity': 0.8,\n",
    "       'thickness': 0.5,\n",
    "       'strokeColor': [255, 153, 31],\n",
    "       'colorRange': {'name': 'Global Warming',\n",
    "        'type': 'sequential',\n",
    "        'category': 'Uber',\n",
    "        'colors': ['#5A1846',\n",
    "         '#900C3F',\n",
    "         '#C70039',\n",
    "         '#E3611C',\n",
    "         '#F1920E',\n",
    "         '#FFC300']},\n",
    "       'radius': 10,\n",
    "       'sizeRange': [0, 10],\n",
    "       'radiusRange': [0, 50],\n",
    "       'heightRange': [0, 500],\n",
    "       'elevationScale': 5,\n",
    "       'enableElevationZoomFactor': True,\n",
    "       'stroked': True,\n",
    "       'filled': False,\n",
    "       'enable3d': False,\n",
    "       'wireframe': False},\n",
    "      'hidden': False}\n",
    "}\n",
    "# 2. Construct Kepler.gl Configuration\n",
    "keplergl_config = {\n",
    "    'version': 'v1',\n",
    "    'config': {\n",
    "        'visState': {\n",
    "            'layers': [layer_config_stops_geohash, layer_config_stops, layer_config_points]\n",
    "        }\n",
    "    }\n",
    "}\n"
   ]
  },
  {
   "cell_type": "code",
   "execution_count": 14,
   "id": "b1c56771-90ea-484c-8890-862d71c03287",
   "metadata": {
    "collapsed": true,
    "jupyter": {
     "outputs_hidden": true
    },
    "tags": []
   },
   "outputs": [
    {
     "name": "stdout",
     "output_type": "stream",
     "text": [
      "User Guide: https://docs.kepler.gl/docs/keplergl-jupyter\n"
     ]
    },
    {
     "name": "stderr",
     "output_type": "stream",
     "text": [
      "/srv/conda/envs/notebook/lib/python3.9/site-packages/jupyter_client/session.py:718: UserWarning: Message serialization failed with:\n",
      "Out of range float values are not JSON compliant\n",
      "Supporting this message is deprecated in jupyter-client 7, please make sure your message is JSON-compliant\n",
      "  content = self.pack(content)\n"
     ]
    },
    {
     "data": {
      "application/vnd.jupyter.widget-view+json": {
       "model_id": "fbfdb4a660cd4de492de1e67bf011cec",
       "version_major": 2,
       "version_minor": 0
      },
      "text/plain": [
       "KeplerGl(config={'version': 'v1', 'config': {'visState': {'layers': [{'type': 'geojson', 'config': {'dataId': …"
      ]
     },
     "metadata": {},
     "output_type": "display_data"
    }
   ],
   "source": [
    "map_towrite = KeplerGl(height=600, config= keplergl_config)\n",
    "map_towrite.add_data(stop_geohashes, name='Geohash')\n",
    "map_towrite.add_data(stops, name='Stops')\n",
    "map_towrite.add_data(device_loc_stops, name='Points')\n",
    "\n",
    "map_towrite"
   ]
  },
  {
   "cell_type": "markdown",
   "id": "968718e1-0b21-4d8c-965a-b3bcf72cdb70",
   "metadata": {},
   "source": [
    "### Analyze time between points"
   ]
  },
  {
   "cell_type": "code",
   "execution_count": 15,
   "id": "6092605f-7284-42dc-ad28-5d7bf4e1444e",
   "metadata": {},
   "outputs": [],
   "source": [
    "query = f\"\"\"\n",
    "WITH time_table AS (\n",
    "    SELECT\n",
    "        *,\n",
    "        LEAD(event_timestamp) OVER (PARTITION BY lineage_id, data_provider, id_type ORDER BY event_timestamp) AS next_timestamp,\n",
    "        LAG(event_timestamp) OVER (PARTITION BY lineage_id, data_provider, id_type ORDER BY event_timestamp) AS previous_timestamp\n",
    "        \n",
    "    FROM {dev_loc_model}\n",
    "    where lineage_id % 100 = 0\n",
    ")\n",
    "\n",
    "SELECT\n",
    "    *,\n",
    "    (cast(next_timestamp as double) - cast(previous_timestamp as double)) / 60.0 AS difference_in_minutes\n",
    "FROM time_table\n",
    "order by lineage_id, event_timestamp\n",
    "\"\"\"\n",
    "\n",
    "df_sampling_rate = sql_engine.read_sql(query)"
   ]
  },
  {
   "cell_type": "code",
   "execution_count": 16,
   "id": "90d86335-c766-4d8a-a9d0-01f8be17309c",
   "metadata": {},
   "outputs": [
    {
     "data": {
      "text/plain": [
       "count    21111.000000\n",
       "mean        65.282386\n",
       "std        155.663195\n",
       "min          0.000000\n",
       "25%          1.850000\n",
       "50%         12.950000\n",
       "75%        118.000000\n",
       "max       6091.233333\n",
       "Name: difference_in_minutes, dtype: float64"
      ]
     },
     "execution_count": 16,
     "metadata": {},
     "output_type": "execute_result"
    }
   ],
   "source": [
    "df_stop = df_sampling_rate[df_sampling_rate.stop_id.notnull() & df_sampling_rate.difference_in_minutes.notnull()].copy()\n",
    "df_stop['difference_in_minutes'] = df_stop['difference_in_minutes'].astype(float)\n",
    "df_stop['difference_in_minutes'].describe()"
   ]
  },
  {
   "cell_type": "code",
   "execution_count": 17,
   "id": "57585dac-195a-46d1-9072-4499366d747b",
   "metadata": {},
   "outputs": [
    {
     "data": {
      "text/plain": [
       "count    363004.000000\n",
       "mean          3.698972\n",
       "std         104.377726\n",
       "min           0.000000\n",
       "25%           0.066667\n",
       "50%           0.116667\n",
       "75%           0.200000\n",
       "max       18580.600000\n",
       "Name: difference_in_minutes, dtype: float64"
      ]
     },
     "execution_count": 17,
     "metadata": {},
     "output_type": "execute_result"
    }
   ],
   "source": [
    "df_not_stop = df_sampling_rate[df_sampling_rate.stop_id.isnull() & df_sampling_rate.difference_in_minutes.notnull()].copy()\n",
    "df_not_stop['difference_in_minutes'] = df_not_stop['difference_in_minutes'].astype(float)\n",
    "df_not_stop['difference_in_minutes'].describe()"
   ]
  },
  {
   "cell_type": "code",
   "execution_count": 18,
   "id": "7d1b9e6b-1ef9-46a9-9ef8-e4f4eed4f87b",
   "metadata": {},
   "outputs": [
    {
     "data": {
      "image/png": "[encoded data removed]",
      "text/plain": [
       "<Figure size 600x400 with 1 Axes>"
      ]
     },
     "metadata": {},
     "output_type": "display_data"
    }
   ],
   "source": [
    "fig,ax = plt.subplots(figsize=(6,4), sharey=True)\n",
    "\n",
    "def plot_loghist(x, bins, ax):\n",
    "    logbins = np.logspace(np.log10(bins[0]+0.1),np.log10(bins[-1]),len(bins))\n",
    "    ax.hist(x, bins=logbins, density=True, alpha=0.5)\n",
    "    ax.set_xscale('log')\n",
    "    ax.set_yscale('log')\n",
    "    ax.axvline(x.mean(), linestyle='--')\n",
    "\n",
    "hist, bins = np.histogram(df_not_stop['difference_in_minutes'], bins=50)\n",
    "\n",
    "plot_loghist(df_not_stop['difference_in_minutes'], bins, ax)\n",
    "plot_loghist(df_stop['difference_in_minutes'], bins, ax)\n",
    "\n"
   ]
  },
  {
   "cell_type": "markdown",
   "id": "ce8321de-4d78-4de7-96ff-997456c35653",
   "metadata": {},
   "source": [
    "## Analyze features"
   ]
  },
  {
   "cell_type": "code",
   "execution_count": null,
   "id": "78dcf1cf-8c6c-44e5-9e61-d188f0e42689",
   "metadata": {},
   "outputs": [],
   "source": []
  },
  {
   "cell_type": "code",
   "execution_count": 28,
   "id": "800b9c58-299a-4f66-9462-1363ad58c3cd",
   "metadata": {},
   "outputs": [],
   "source": [
    "query = f\"\"\"\n",
    "SELECT substr(geohash, 1, 6) AS geohash_level, AVG(COALESCE(geohash_entropy,0)) as feature\n",
    "FROM {dev_loc_model}\n",
    "group by substr(geohash, 1, 6)\n",
    "\"\"\"\n",
    "df_dev_loc_model = sql_engine.read_sql(query)"
   ]
  },
  {
   "cell_type": "code",
   "execution_count": 29,
   "id": "4d143775-5102-4b9d-ae86-f1cf32f0b771",
   "metadata": {},
   "outputs": [
    {
     "data": {
      "text/plain": [
       "array([[<AxesSubplot: title={'center': 'feature'}>]], dtype=object)"
      ]
     },
     "execution_count": 29,
     "metadata": {},
     "output_type": "execute_result"
    },
    {
     "data": {
      "image/png": "[encoded data removed]",
      "text/plain": [
       "<Figure size 640x480 with 1 Axes>"
      ]
     },
     "metadata": {},
     "output_type": "display_data"
    }
   ],
   "source": [
    "df_dev_loc_model['feature'] = df_dev_loc_model['feature'].clip(upper=5) \n",
    "df_dev_loc_model.hist(bins=30)"
   ]
  },
  {
   "cell_type": "code",
   "execution_count": 30,
   "id": "f001ff1f-f4f4-4333-9a39-062195a009a3",
   "metadata": {},
   "outputs": [],
   "source": [
    "df_dev_loc_model['geojson'] = df_dev_loc_model['geohash_level'].apply(geohash_to_geojson)"
   ]
  },
  {
   "cell_type": "code",
   "execution_count": 31,
   "id": "638fba18-c082-4d3f-8254-b1e7b1824d59",
   "metadata": {
    "tags": []
   },
   "outputs": [
    {
     "name": "stdout",
     "output_type": "stream",
     "text": [
      "User Guide: https://docs.kepler.gl/docs/keplergl-jupyter\n"
     ]
    },
    {
     "data": {
      "application/vnd.jupyter.widget-view+json": {
       "model_id": "c54e6f176ab84fa1af3f24f6ac2896f5",
       "version_major": 2,
       "version_minor": 0
      },
      "text/plain": [
       "KeplerGl(config={'version': 'v1', 'config': {'visState': {'filters': [], 'layers': [{'id': '6qyxd6i', 'type': …"
      ]
     },
     "metadata": {},
     "output_type": "display_data"
    }
   ],
   "source": [
    "map_towrite = KeplerGl(height=600, config = map_towrite.config)\n",
    "map_towrite.add_data(df_dev_loc_model, name='Geohash')\n",
    "\n",
    "map_towrite"
   ]
  },
  {
   "cell_type": "code",
   "execution_count": 33,
   "id": "0d073c36-a635-4725-ae4c-1e95213aec3d",
   "metadata": {},
   "outputs": [],
   "source": [
    "# columns\n",
    "query = f\"\"\"\n",
    "    SELECT *\n",
    "    FROM {dev_loc_model}\n",
    "    limit 10\n",
    "\"\"\"\n",
    "result = sql_engine.read_sql(query)"
   ]
  },
  {
   "cell_type": "code",
   "execution_count": 34,
   "id": "f404f15e-8671-42a2-85e2-493638f252ab",
   "metadata": {},
   "outputs": [],
   "source": [
    "# proportion of stops\n",
    "lower = 0\n",
    "higher = 2\n",
    "bins = 100\n",
    "\n",
    "query = f\"\"\"\n",
    "    WITH ratio_stops AS(\n",
    "    SELECT lineage_id, CAST(num_of_individual_stops_last_week AS double)/NULLIF(num_of_collective_stops_last_week,0) AS proportion_stops\n",
    "    FROM {dev_loc_model}\n",
    "    )\n",
    "    SELECT WIDTH_BUCKET(proportion_stops ,{lower}, {higher}, {bins}) AS stops_bins,\n",
    "        {lower} + ( WIDTH_BUCKET(proportion_stops ,{lower}, {higher}, {bins}) - 1 ) * (CAST({higher} as double)-{lower})/{bins} AS stops_values,\n",
    "        COUNT(*) AS num_rows\n",
    "    FROM ratio_stops\n",
    "    GROUP BY WIDTH_BUCKET(proportion_stops ,{lower}, {higher}, {bins})\n",
    "    ORDER BY WIDTH_BUCKET(proportion_stops ,{lower}, {higher}, {bins})\n",
    "\"\"\"\n",
    "result = sql_engine.read_sql(query).sort_values('stops_bins')"
   ]
  },
  {
   "cell_type": "code",
   "execution_count": 35,
   "id": "7bcf1400-aa77-4063-9fa8-e7e541089692",
   "metadata": {
    "tags": []
   },
   "outputs": [
    {
     "data": {
      "image/png": "[encoded data removed]",
      "text/plain": [
       "<Figure size 800x600 with 1 Axes>"
      ]
     },
     "metadata": {},
     "output_type": "display_data"
    }
   ],
   "source": [
    "fig,ax = plt.subplots(figsize=(8,6))\n",
    "ax.bar(result['stops_values'], result['num_rows'], width = (higher-lower)/(bins+1), edgecolor='k', align='edge')\n",
    "ax.set_yscale('log')"
   ]
  },
  {
   "cell_type": "code",
   "execution_count": 36,
   "id": "3af4316f-0676-4c1e-8c17-6c216c4fb66c",
   "metadata": {},
   "outputs": [],
   "source": [
    "query = f\"\"\"\n",
    "    SELECT num_of_individual_stops_last_week, num_of_collective_stops_last_week, CAST(num_of_individual_stops_last_week AS double)/NULLIF(num_of_collective_stops_last_week,0) as ratio\n",
    "    FROM {dev_loc_model}\n",
    "    WHERE num_of_collective_stops_last_week IS NOT NULL\n",
    "    limit 100000\n",
    "\"\"\"\n",
    "result = sql_engine.read_sql(query)"
   ]
  },
  {
   "cell_type": "code",
   "execution_count": 37,
   "id": "96e8daa2-fed3-4312-b0af-c49d059d9b75",
   "metadata": {},
   "outputs": [
    {
     "data": {
      "text/html": [
       "<div>\n",
       "<style scoped>\n",
       "    .dataframe tbody tr th:only-of-type {\n",
       "        vertical-align: middle;\n",
       "    }\n",
       "\n",
       "    .dataframe tbody tr th {\n",
       "        vertical-align: top;\n",
       "    }\n",
       "\n",
       "    .dataframe thead th {\n",
       "        text-align: right;\n",
       "    }\n",
       "</style>\n",
       "<table border=\"1\" class=\"dataframe\">\n",
       "  <thead>\n",
       "    <tr style=\"text-align: right;\">\n",
       "      <th></th>\n",
       "      <th>num_of_individual_stops_last_week</th>\n",
       "      <th>num_of_collective_stops_last_week</th>\n",
       "      <th>ratio</th>\n",
       "    </tr>\n",
       "  </thead>\n",
       "  <tbody>\n",
       "    <tr>\n",
       "      <th>2254</th>\n",
       "      <td>3</td>\n",
       "      <td>2</td>\n",
       "      <td>1.5</td>\n",
       "    </tr>\n",
       "    <tr>\n",
       "      <th>29543</th>\n",
       "      <td>12</td>\n",
       "      <td>8</td>\n",
       "      <td>1.5</td>\n",
       "    </tr>\n",
       "    <tr>\n",
       "      <th>71564</th>\n",
       "      <td>3</td>\n",
       "      <td>2</td>\n",
       "      <td>1.5</td>\n",
       "    </tr>\n",
       "    <tr>\n",
       "      <th>71566</th>\n",
       "      <td>3</td>\n",
       "      <td>2</td>\n",
       "      <td>1.5</td>\n",
       "    </tr>\n",
       "    <tr>\n",
       "      <th>71567</th>\n",
       "      <td>3</td>\n",
       "      <td>2</td>\n",
       "      <td>1.5</td>\n",
       "    </tr>\n",
       "    <tr>\n",
       "      <th>71568</th>\n",
       "      <td>3</td>\n",
       "      <td>2</td>\n",
       "      <td>1.5</td>\n",
       "    </tr>\n",
       "    <tr>\n",
       "      <th>71569</th>\n",
       "      <td>3</td>\n",
       "      <td>2</td>\n",
       "      <td>1.5</td>\n",
       "    </tr>\n",
       "    <tr>\n",
       "      <th>73021</th>\n",
       "      <td>3</td>\n",
       "      <td>2</td>\n",
       "      <td>1.5</td>\n",
       "    </tr>\n",
       "  </tbody>\n",
       "</table>\n",
       "</div>"
      ],
      "text/plain": [
       "       num_of_individual_stops_last_week  num_of_collective_stops_last_week  \\\n",
       "2254                                   3                                  2   \n",
       "29543                                 12                                  8   \n",
       "71564                                  3                                  2   \n",
       "71566                                  3                                  2   \n",
       "71567                                  3                                  2   \n",
       "71568                                  3                                  2   \n",
       "71569                                  3                                  2   \n",
       "73021                                  3                                  2   \n",
       "\n",
       "       ratio  \n",
       "2254     1.5  \n",
       "29543    1.5  \n",
       "71564    1.5  \n",
       "71566    1.5  \n",
       "71567    1.5  \n",
       "71568    1.5  \n",
       "71569    1.5  \n",
       "73021    1.5  "
      ]
     },
     "execution_count": 37,
     "metadata": {},
     "output_type": "execute_result"
    }
   ],
   "source": [
    "result[result['ratio']==1.5]"
   ]
  },
  {
   "cell_type": "code",
   "execution_count": 40,
   "id": "1f8d13d5-3c49-4dad-b662-2ff0d4b43a1f",
   "metadata": {},
   "outputs": [],
   "source": [
    "query = f\"\"\"\n",
    "    WITH ratio_stops AS(\n",
    "    SELECT *, cast(num_of_individual_stops_last_week as double)/NULLIF(num_of_collective_stops_last_week,0) AS proportion_stops\n",
    "    FROM {dev_loc_model}\n",
    "    )\n",
    "    SELECT proportion_stops\n",
    "    FROM ratio_stops\n",
    "    WHERE proportion_stops IS NOT NULL\n",
    "    limit 100000\n",
    "\"\"\"\n",
    "result = sql_engine.read_sql(query)"
   ]
  },
  {
   "cell_type": "code",
   "execution_count": null,
   "id": "cf8cadbf-db27-4594-a273-66122ab03bf6",
   "metadata": {},
   "outputs": [],
   "source": []
  },
  {
   "cell_type": "code",
   "execution_count": 41,
   "id": "8c801d02-7a6f-4356-a23a-e5beee74ed70",
   "metadata": {},
   "outputs": [
    {
     "data": {
      "text/plain": [
       "array([[<AxesSubplot: title={'center': 'proportion_stops'}>]],\n",
       "      dtype=object)"
      ]
     },
     "execution_count": 41,
     "metadata": {},
     "output_type": "execute_result"
    },
    {
     "data": {
      "image/png": "[encoded data removed]",
      "text/plain": [
       "<Figure size 640x480 with 1 Axes>"
      ]
     },
     "metadata": {},
     "output_type": "display_data"
    }
   ],
   "source": [
    "result.hist()"
   ]
  }
 ],
 "metadata": {
  "kernelspec": {
   "display_name": "Python 3 (ipykernel)",
   "language": "python",
   "name": "python3"
  },
  "language_info": {
   "codemirror_mode": {
    "name": "ipython",
    "version": 3
   },
   "file_extension": ".py",
   "mimetype": "text/x-python",
   "name": "python",
   "nbconvert_exporter": "python",
   "pygments_lexer": "ipython3",
   "version": "3.9.15"
  }
 },
 "nbformat": 4,
 "nbformat_minor": 5
}
