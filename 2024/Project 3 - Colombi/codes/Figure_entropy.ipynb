{
 "cells": [
  {
   "cell_type": "code",
   "execution_count": 1,
   "id": "391873ed-cf85-4ba7-b9dc-f13c329371f4",
   "metadata": {
    "tags": []
   },
   "outputs": [
    {
     "data": {
      "text/plain": [
       "'Connected: @cuebiq/'"
      ]
     },
     "execution_count": 1,
     "metadata": {},
     "output_type": "execute_result"
    }
   ],
   "source": [
    "%reload_ext sql\n",
    "%config SqlMagic.autocommit=False\n",
    "%config SqlMagic.autolimit=0\n",
    "%config SqlMagic.autopandas=True\n",
    "%config SqlMagic.displaylimit=200\n",
    "%sql trino://localhost:9090/cuebiq/"
   ]
  },
  {
   "cell_type": "code",
   "execution_count": 2,
   "id": "46b71a9a-7cbc-4412-8c20-48008a2ff5fe",
   "metadata": {
    "tags": []
   },
   "outputs": [
    {
     "name": "stdout",
     "output_type": "stream",
     "text": [
      " * trino://localhost:9090/cuebiq/\n",
      "Done.\n"
     ]
    }
   ],
   "source": [
    "schema = 'ds_data_for_complexity'\n",
    "q = f\"\"\"show tables from dedicated.{schema}\"\"\"\n",
    "%sql $q\n",
    "\n",
    "table = f'dedicated.{schema}.device_location_and_stops_forreal_forreal'\n",
    "\n"
   ]
  },
  {
   "cell_type": "code",
   "execution_count": 9,
   "id": "05fdd3df-8604-412a-b5c2-0064f31ab3a9",
   "metadata": {
    "tags": []
   },
   "outputs": [],
   "source": [
    "!pip install seaborn -q -q\n",
    "!pip install selenium -q -q\n",
    "!pip install geohash2 -q -q\n",
    "\n",
    "import pandas as pd\n",
    "from datetime import datetime\n",
    "import numpy as np\n",
    "import seaborn as sns\n",
    "from scipy import stats\n",
    "from keplergl import KeplerGl\n",
    "\n",
    "import matplotlib.pyplot as plt\n",
    "import matplotlib.dates as mdates\n",
    "from matplotlib.ticker import ScalarFormatter\n",
    "import matplotlib as mpl\n",
    "\n",
    "import geohash2\n",
    "import json\n",
    "\n",
    "'''\n",
    "import os\n",
    "from selenium import webdriver\n",
    "from selenium.webdriver.chrome.service import Service as ChromeService\n",
    "from webdriver_manager.chrome import ChromeDriverManager\n",
    "from PIL import Image\n",
    "import matplotlib.pyplot as plt'''\n",
    "\n",
    "pd.set_option('display.max_columns', None)\n",
    "pd.set_option('display.max_colwidth', None)\n",
    "pd.set_option('display.max_rows', None)\n",
    "\n",
    "mpl.rcParams['font.size'] = 20"
   ]
  },
  {
   "cell_type": "code",
   "execution_count": 4,
   "id": "b14d7304-74c5-4fe8-88dd-39ab16c542eb",
   "metadata": {},
   "outputs": [
    {
     "name": "stdout",
     "output_type": "stream",
     "text": [
      " * trino://localhost:9090/cuebiq/\n",
      "Done.\n"
     ]
    }
   ],
   "source": [
    "query = f\"\"\"\n",
    "select geohash_entropy, geohash\n",
    "from {table}\n",
    "limit 10000000\n",
    "\"\"\"\n",
    "\n",
    "df = %sql $query"
   ]
  },
  {
   "cell_type": "code",
   "execution_count": 5,
   "id": "e9b5d16e-6efc-48e9-8102-68732c5e50af",
   "metadata": {},
   "outputs": [
    {
     "name": "stdout",
     "output_type": "stream",
     "text": [
      "geohash_entropy     4.982892\n",
      "geohash            drkdwmqnb\n",
      "dtype: object\n"
     ]
    }
   ],
   "source": [
    "print(df.max())"
   ]
  },
  {
   "cell_type": "code",
   "execution_count": 6,
   "id": "1557d8da-1766-4040-81d0-f2a8ec087cb0",
   "metadata": {},
   "outputs": [
    {
     "data": {
      "image/png": "[encoded data removed]",
      "text/plain": [
       "<Figure size 1000x600 with 1 Axes>"
      ]
     },
     "metadata": {},
     "output_type": "display_data"
    }
   ],
   "source": [
    "# Create a histogram of the geohash_entropy column\n",
    "plt.figure(figsize=(10, 6))\n",
    "plt.hist(df['geohash_entropy'], bins=15, edgecolor='black', density=False)\n",
    "\n",
    "plt.yscale('log')\n",
    "\n",
    "plt.xlabel('Geohash Entropy')\n",
    "plt.ylabel('Frequency')\n",
    "plt.savefig('Images/entropy_hist.eps')\n",
    "plt.show()\n"
   ]
  },
  {
   "cell_type": "code",
   "execution_count": null,
   "id": "fa8203e0-6b57-4951-8142-7a9309a1a460",
   "metadata": {},
   "outputs": [],
   "source": [
    "\n",
    "import pygeohash as pgh\n",
    "\n",
    "def decode_to_precision_7(geohash):\n",
    "    try:\n",
    "        # Decode original geohash to latitude and longitude\n",
    "        lat, lon = pgh.decode(geohash)\n",
    "        # Re-encode to geohash with precision 7\n",
    "        geohash_7 = pgh.encode(lat, lon, precision=7)\n",
    "        # Decode again to get latitude and longitude at precision 7\n",
    "        lat_7, lon_7 = pgh.decode(geohash_7)\n",
    "        return lat_7, lon_7, geohash_7\n",
    "    except Exception as e:\n",
    "        print(f\"Error processing geohash {geohash}: {e}\")\n",
    "        return (None, None, None)\n",
    "\n",
    "# Decode geohash to latitude, longitude, and geohash_7\n",
    "df[['latitude', 'longitude', 'geohash_7']] = df['geohash'].apply(decode_to_precision_7).apply(pd.Series)\n",
    "\n",
    "# Remove duplicate rows based on geohash_7, keeping only the first occurrence\n",
    "df_unique = df.drop_duplicates(subset='geohash_7')\n",
    "\n",
    "print(df_unique.head())"
   ]
  },
  {
   "cell_type": "code",
   "execution_count": 102,
   "id": "48b29646-a98f-438c-89ba-076d662de9c0",
   "metadata": {},
   "outputs": [
    {
     "name": "stdout",
     "output_type": "stream",
     "text": [
      "    geohash_entropy    geohash  latitude  longitude geohash_7\n",
      "0              -0.0  dr78bdvn6     40.93      -73.8   dr78bdv\n",
      "1              -0.0  dr78bduze     40.93      -73.8   dr78bdu\n",
      "23              NaN  dr78bdtk7     40.93      -73.8   dr78bdt\n",
      "25             -0.0  dr78bdmnq     40.93      -73.8   dr78bdm\n",
      "29              NaN  dr78bdqk5     40.93      -73.8   dr78bdq\n"
     ]
    }
   ],
   "source": [
    "print(df_unique.head())"
   ]
  },
  {
   "cell_type": "code",
   "execution_count": null,
   "id": "ed28387a-0cf2-4805-aa98-9b42cc5918ba",
   "metadata": {
    "tags": []
   },
   "outputs": [],
   "source": [
    "fig = px.density_mapbox(df_unique, lat = 'latitude', lon = 'longitude', z='geohash_entropy',\n",
    "                        radius = 8,\n",
    "                        center = dict(lat = 40.76, lon = -73.5),\n",
    "                        zoom = 7,\n",
    "                        mapbox_style = 'carto-positron')\n",
    "\n",
    "fig.update_layout(\n",
    "    width=800,\n",
    "    height=600\n",
    ")\n",
    "\n",
    "fig.show()\n",
    "\n",
    "fig.write_image('Images/Entropy_heatmap.eps', format='eps')"
   ]
  },
  {
   "cell_type": "code",
   "execution_count": 113,
   "id": "b32d2d43-9d9a-4585-874f-6b1b6a74807a",
   "metadata": {},
   "outputs": [],
   "source": [
    "fig.write_image('Images/Entropy.eps', format='eps')"
   ]
  }
 ],
 "metadata": {
  "kernelspec": {
   "display_name": "Python 3 (ipykernel)",
   "language": "python",
   "name": "python3"
  },
  "language_info": {
   "codemirror_mode": {
    "name": "ipython",
    "version": 3
   },
   "file_extension": ".py",
   "mimetype": "text/x-python",
   "name": "python",
   "nbconvert_exporter": "python",
   "pygments_lexer": "ipython3",
   "version": "3.9.15"
  }
 },
 "nbformat": 4,
 "nbformat_minor": 5
}
