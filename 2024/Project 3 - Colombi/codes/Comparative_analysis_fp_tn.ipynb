{
 "cells": [
  {
   "cell_type": "code",
   "execution_count": 1,
   "id": "25c46f12-3dcb-44ad-b95f-a3c72cff1974",
   "metadata": {},
   "outputs": [],
   "source": [
    "%reload_ext sql\n",
    "%config SqlMagic.autocommit=False\n",
    "%config SqlMagic.autolimit=0\n",
    "%config SqlMagic.autopandas=True\n",
    "%config SqlMagic.displaylimit=200"
   ]
  },
  {
   "cell_type": "code",
   "execution_count": 2,
   "id": "81ed3841-0c69-4401-882d-b41ab1321b43",
   "metadata": {},
   "outputs": [
    {
     "data": {
      "text/plain": [
       "'Connected: @cuebiq/'"
      ]
     },
     "execution_count": 2,
     "metadata": {},
     "output_type": "execute_result"
    }
   ],
   "source": [
    "%sql trino://localhost:9090/cuebiq/"
   ]
  },
  {
   "cell_type": "code",
   "execution_count": 3,
   "id": "a2ab0878-0f9a-4966-af95-1fbe94ab4fd1",
   "metadata": {},
   "outputs": [],
   "source": [
    "!pip install seaborn -q -q\n",
    "!pip install geohash2 -q -q"
   ]
  },
  {
   "cell_type": "code",
   "execution_count": 4,
   "id": "d92ec105-9955-4ffe-abba-e28023878681",
   "metadata": {},
   "outputs": [],
   "source": [
    "import pandas as pd\n",
    "from datetime import datetime\n",
    "import numpy as np\n",
    "import seaborn as sns\n",
    "from scipy import stats\n",
    "from keplergl import KeplerGl\n",
    "import random\n",
    "\n",
    "import matplotlib.pyplot as plt\n",
    "import matplotlib.dates as mdates\n",
    "from matplotlib.ticker import ScalarFormatter\n",
    "\n",
    "import geohash2\n",
    "import json"
   ]
  },
  {
   "cell_type": "code",
   "execution_count": 5,
   "id": "c63d3e82-0355-4bc8-b0a3-670c1871fdd5",
   "metadata": {},
   "outputs": [],
   "source": [
    "schema = 'ds_data_for_complexity'"
   ]
  },
  {
   "cell_type": "code",
   "execution_count": 6,
   "id": "941b184c-8fe8-491d-af7b-88e88d018f17",
   "metadata": {},
   "outputs": [],
   "source": [
    "stops_table_name = f'dedicated.{schema}.selected_stops_limited'\n",
    "device_location_table_name = f'dedicated.{schema}.device_location_and_stops_limited'\n",
    "feature_table_name = f'dedicated.ds_data_for_complexity.device_location_and_stops_for_model_part3'"
   ]
  },
  {
   "cell_type": "code",
   "execution_count": 7,
   "id": "fb9753c6-ee67-4c0a-b68d-aed38fa462d9",
   "metadata": {},
   "outputs": [],
   "source": [
    "df_false_positive = pd.read_csv(\"false_positive_last.csv\")\n",
    "df_true_negative = pd.read_csv(\"true_negative_last.csv\")"
   ]
  },
  {
   "cell_type": "code",
   "execution_count": 8,
   "id": "8ecdf2b2-6c72-40e6-9687-1fd4b7ff06a8",
   "metadata": {},
   "outputs": [],
   "source": [
    "# Unique key generation concatenating ID and timestamp\n",
    "\n",
    "df_false_positive['key'] = df_false_positive['lineage_id'].astype(str) + '_' + df_false_positive['event_zoned_datetime'].astype(str)\n",
    "df_true_negative['key'] = df_true_negative['lineage_id'].astype(str) + '_' + df_true_negative['event_zoned_datetime'].astype(str)"
   ]
  },
  {
   "cell_type": "code",
   "execution_count": 9,
   "id": "bd87c451-ea11-4e04-a731-001800aa785a",
   "metadata": {},
   "outputs": [],
   "source": [
    "# Key for device and device-timestamp for true positives\n",
    "\n",
    "tuple_key_pos =tuple(df_false_positive['key'].values)\n",
    "tuple_device_pos =tuple(set(df_false_positive['lineage_id'].values))\n",
    "\n",
    "# Key for device and device-timestamp for true negative, subsampling 10000 id \n",
    "\n",
    "tuple_key_neg =tuple(df_true_negative['key'].values)\n",
    "tuple_key_neg_subsample = tuple(random.sample(tuple(df_true_negative['key'].values),20000))\n",
    "tuple_device_neg =tuple(set(df_true_negative['lineage_id'].values))"
   ]
  },
  {
   "cell_type": "code",
   "execution_count": 10,
   "id": "f3f7d1f7-d255-4209-94c3-9c778b6f6583",
   "metadata": {},
   "outputs": [
    {
     "name": "stdout",
     "output_type": "stream",
     "text": [
      " * trino://localhost:9090/cuebiq/\n",
      "Done.\n"
     ]
    }
   ],
   "source": [
    "# Query for spot min distance between each false positive points and the nearest actual stop point.\n",
    "\n",
    "query = f\"\"\"\n",
    "    with stops as (\n",
    "        select lineage_id,\n",
    "                stop_id, lat, lng,\n",
    "                stop_start_unix_timestamp,\n",
    "                dwell_time_minutes,\n",
    "                stop_end_unix_timestamp\n",
    "        from {stops_table_name}\n",
    "        where lineage_id in {tuple_device_neg}\n",
    "        and stop_id NOT IN (SELECT distinct stop_id FROM {device_location_table_name} WHERE subsampled = 1)\n",
    "\n",
    "    \n",
    "    ),\n",
    "    \n",
    "    false_positive as (\n",
    "        select lineage_id,\n",
    "               lat as fp_lat,\n",
    "               lng as fp_lng,\n",
    "               event_timestamp as fp_event_timestamp\n",
    "        from {device_location_table_name}\n",
    "        where concat(cast(lineage_id as varchar) , '_', cast(event_zoned_datetime as varchar)) \n",
    "        in {tuple_key_neg_subsample}\n",
    "    ),\n",
    "    \n",
    "    joined_table as(\n",
    "        select fp.*,\n",
    "               s.stop_id, \n",
    "               s.lat as stop_lat, \n",
    "               s.lng as stop_lng,\n",
    "                s.stop_start_unix_timestamp,\n",
    "                s.dwell_time_minutes,\n",
    "                s.stop_end_unix_timestamp\n",
    "        from false_positive fp\n",
    "        join stops s\n",
    "            on fp.lineage_id = s.lineage_id\n",
    "    \n",
    "    ),\n",
    "    \n",
    "    final_table as(\n",
    "        select distinct\n",
    "            *,\n",
    "            6371000 * 2 * ASIN(SQRT(\n",
    "            POWER(SIN(RADIANS(fp_lat - stop_lat) / 2), 2) +\n",
    "            COS(RADIANS(stop_lat)) * COS(RADIANS(fp_lat)) *\n",
    "            POWER(SIN(RADIANS(fp_lng - stop_lng) / 2), 2)\n",
    "            )) AS distance_meters,\n",
    "            abs((cast(fp_event_timestamp as double) - cast(stop_start_unix_timestamp as double))/60.) as distance_min\n",
    "        from joined_table\n",
    "    )\n",
    "    \n",
    "    select distinct *\n",
    "    from final_table\n",
    "\"\"\"\n",
    "df_tn = %sql $query"
   ]
  },
  {
   "cell_type": "code",
   "execution_count": 11,
   "id": "279dfcd3-54bd-490f-bf9b-a4169a5caa5b",
   "metadata": {},
   "outputs": [
    {
     "name": "stdout",
     "output_type": "stream",
     "text": [
      " * trino://localhost:9090/cuebiq/\n",
      "Done.\n"
     ]
    }
   ],
   "source": [
    "# Query for spot min distance between each true negative points and the nearest actual stop point.\n",
    "\n",
    "query = f\"\"\"\n",
    "    with stops as (\n",
    "        select lineage_id,\n",
    "                stop_id, lat, lng,\n",
    "                stop_start_unix_timestamp,\n",
    "                dwell_time_minutes,\n",
    "                stop_end_unix_timestamp\n",
    "        from {stops_table_name}\n",
    "        where lineage_id in {tuple_device_pos}\n",
    "        and stop_id NOT IN (SELECT distinct stop_id FROM {device_location_table_name} WHERE subsampled = 1)\n",
    "\n",
    "    \n",
    "    ),\n",
    "    \n",
    "    false_positive as (\n",
    "        select lineage_id,\n",
    "               lat as fp_lat,\n",
    "               lng as fp_lng,\n",
    "               event_timestamp as fp_event_timestamp\n",
    "        from {device_location_table_name}\n",
    "        where concat(cast(lineage_id as varchar) , '_', cast(event_zoned_datetime as varchar)) \n",
    "        in {tuple_key_pos}\n",
    "    ),\n",
    "    \n",
    "    joined_table as(\n",
    "        select fp.*,\n",
    "               s.stop_id, \n",
    "               s.lat as stop_lat, \n",
    "               s.lng as stop_lng,\n",
    "               s.stop_start_unix_timestamp,\n",
    "               s.dwell_time_minutes,\n",
    "               s.stop_end_unix_timestamp\n",
    "        from false_positive fp\n",
    "        join stops s\n",
    "            on fp.lineage_id = s.lineage_id\n",
    "    \n",
    "    ),\n",
    "    \n",
    "    final_table as(\n",
    "        select distinct\n",
    "            *,\n",
    "            6371000 * 2 * ASIN(SQRT(\n",
    "            POWER(SIN(RADIANS(fp_lat - stop_lat) / 2), 2) +\n",
    "            COS(RADIANS(stop_lat)) * COS(RADIANS(fp_lat)) *\n",
    "            POWER(SIN(RADIANS(fp_lng - stop_lng) / 2), 2)\n",
    "            )) AS distance_meters,\n",
    "            abs((cast(fp_event_timestamp as double) - cast(stop_start_unix_timestamp as double))/60.) as distance_min\n",
    "        from joined_table\n",
    "    )\n",
    "    \n",
    "    select distinct *\n",
    "    from final_table\n",
    "\"\"\"\n",
    "df_fp = %sql $query"
   ]
  },
  {
   "cell_type": "code",
   "execution_count": 12,
   "id": "12c6c7e5-731c-49d4-be25-3a2ebbac28de",
   "metadata": {},
   "outputs": [],
   "source": [
    "# Compute the min aggregating by ID and timestamp\n",
    "\n",
    "columns = ['lineage_id', 'fp_event_timestamp']\n",
    "df_fp_grouped = df_fp.groupby(columns)[['distance_meters', 'distance_min']].agg('min').reset_index()\n",
    "df_tn_grouped = df_tn.groupby(columns)[['distance_meters', 'distance_min']].agg('min').reset_index()"
   ]
  },
  {
   "cell_type": "code",
   "execution_count": 13,
   "id": "36255d68-dc7b-4b65-9fbb-37aa7e03b26a",
   "metadata": {},
   "outputs": [
    {
     "data": {
      "text/html": [
       "<div>\n",
       "<style scoped>\n",
       "    .dataframe tbody tr th:only-of-type {\n",
       "        vertical-align: middle;\n",
       "    }\n",
       "\n",
       "    .dataframe tbody tr th {\n",
       "        vertical-align: top;\n",
       "    }\n",
       "\n",
       "    .dataframe thead th {\n",
       "        text-align: right;\n",
       "    }\n",
       "</style>\n",
       "<table border=\"1\" class=\"dataframe\">\n",
       "  <thead>\n",
       "    <tr style=\"text-align: right;\">\n",
       "      <th></th>\n",
       "      <th>lineage_id</th>\n",
       "      <th>fp_event_timestamp</th>\n",
       "      <th>distance_meters</th>\n",
       "      <th>distance_min</th>\n",
       "    </tr>\n",
       "  </thead>\n",
       "  <tbody>\n",
       "    <tr>\n",
       "      <th>count</th>\n",
       "      <td>1.419200e+04</td>\n",
       "      <td>1.419200e+04</td>\n",
       "      <td>14192.000000</td>\n",
       "      <td>14192.000000</td>\n",
       "    </tr>\n",
       "    <tr>\n",
       "      <th>mean</th>\n",
       "      <td>9.223372e+18</td>\n",
       "      <td>1.711579e+09</td>\n",
       "      <td>100.798247</td>\n",
       "      <td>175.455764</td>\n",
       "    </tr>\n",
       "    <tr>\n",
       "      <th>std</th>\n",
       "      <td>1.612577e+09</td>\n",
       "      <td>2.443540e+05</td>\n",
       "      <td>1130.633144</td>\n",
       "      <td>962.737762</td>\n",
       "    </tr>\n",
       "    <tr>\n",
       "      <th>min</th>\n",
       "      <td>9.223372e+18</td>\n",
       "      <td>1.711167e+09</td>\n",
       "      <td>0.000000</td>\n",
       "      <td>0.016667</td>\n",
       "    </tr>\n",
       "    <tr>\n",
       "      <th>25%</th>\n",
       "      <td>9.223372e+18</td>\n",
       "      <td>1.711384e+09</td>\n",
       "      <td>2.232137</td>\n",
       "      <td>6.650000</td>\n",
       "    </tr>\n",
       "    <tr>\n",
       "      <th>50%</th>\n",
       "      <td>9.223372e+18</td>\n",
       "      <td>1.711554e+09</td>\n",
       "      <td>7.718711</td>\n",
       "      <td>19.833333</td>\n",
       "    </tr>\n",
       "    <tr>\n",
       "      <th>75%</th>\n",
       "      <td>9.223372e+18</td>\n",
       "      <td>1.711803e+09</td>\n",
       "      <td>25.010016</td>\n",
       "      <td>61.266667</td>\n",
       "    </tr>\n",
       "    <tr>\n",
       "      <th>max</th>\n",
       "      <td>9.223372e+18</td>\n",
       "      <td>1.712016e+09</td>\n",
       "      <td>79376.211876</td>\n",
       "      <td>15805.933333</td>\n",
       "    </tr>\n",
       "  </tbody>\n",
       "</table>\n",
       "</div>"
      ],
      "text/plain": [
       "         lineage_id  fp_event_timestamp  distance_meters  distance_min\n",
       "count  1.419200e+04        1.419200e+04     14192.000000  14192.000000\n",
       "mean   9.223372e+18        1.711579e+09       100.798247    175.455764\n",
       "std    1.612577e+09        2.443540e+05      1130.633144    962.737762\n",
       "min    9.223372e+18        1.711167e+09         0.000000      0.016667\n",
       "25%    9.223372e+18        1.711384e+09         2.232137      6.650000\n",
       "50%    9.223372e+18        1.711554e+09         7.718711     19.833333\n",
       "75%    9.223372e+18        1.711803e+09        25.010016     61.266667\n",
       "max    9.223372e+18        1.712016e+09     79376.211876  15805.933333"
      ]
     },
     "execution_count": 13,
     "metadata": {},
     "output_type": "execute_result"
    }
   ],
   "source": [
    "# Statistical description for false positive\n",
    "\n",
    "df_fp_grouped.describe()"
   ]
  },
  {
   "cell_type": "code",
   "execution_count": 14,
   "id": "f8483510-cfa1-4d94-a81e-a8ad5b2e97aa",
   "metadata": {},
   "outputs": [
    {
     "data": {
      "text/html": [
       "<div>\n",
       "<style scoped>\n",
       "    .dataframe tbody tr th:only-of-type {\n",
       "        vertical-align: middle;\n",
       "    }\n",
       "\n",
       "    .dataframe tbody tr th {\n",
       "        vertical-align: top;\n",
       "    }\n",
       "\n",
       "    .dataframe thead th {\n",
       "        text-align: right;\n",
       "    }\n",
       "</style>\n",
       "<table border=\"1\" class=\"dataframe\">\n",
       "  <thead>\n",
       "    <tr style=\"text-align: right;\">\n",
       "      <th></th>\n",
       "      <th>lineage_id</th>\n",
       "      <th>fp_event_timestamp</th>\n",
       "      <th>distance_meters</th>\n",
       "      <th>distance_min</th>\n",
       "    </tr>\n",
       "  </thead>\n",
       "  <tbody>\n",
       "    <tr>\n",
       "      <th>count</th>\n",
       "      <td>1.981300e+04</td>\n",
       "      <td>1.981300e+04</td>\n",
       "      <td>19813.000000</td>\n",
       "      <td>19813.000000</td>\n",
       "    </tr>\n",
       "    <tr>\n",
       "      <th>mean</th>\n",
       "      <td>9.223372e+18</td>\n",
       "      <td>1.711599e+09</td>\n",
       "      <td>3258.848641</td>\n",
       "      <td>126.846741</td>\n",
       "    </tr>\n",
       "    <tr>\n",
       "      <th>std</th>\n",
       "      <td>1.539235e+09</td>\n",
       "      <td>2.517057e+05</td>\n",
       "      <td>6133.146130</td>\n",
       "      <td>591.233040</td>\n",
       "    </tr>\n",
       "    <tr>\n",
       "      <th>min</th>\n",
       "      <td>9.223372e+18</td>\n",
       "      <td>1.711167e+09</td>\n",
       "      <td>0.000000</td>\n",
       "      <td>0.050000</td>\n",
       "    </tr>\n",
       "    <tr>\n",
       "      <th>25%</th>\n",
       "      <td>9.223372e+18</td>\n",
       "      <td>1.711381e+09</td>\n",
       "      <td>391.329917</td>\n",
       "      <td>12.850000</td>\n",
       "    </tr>\n",
       "    <tr>\n",
       "      <th>50%</th>\n",
       "      <td>9.223372e+18</td>\n",
       "      <td>1.711577e+09</td>\n",
       "      <td>1290.562858</td>\n",
       "      <td>30.533333</td>\n",
       "    </tr>\n",
       "    <tr>\n",
       "      <th>75%</th>\n",
       "      <td>9.223372e+18</td>\n",
       "      <td>1.711817e+09</td>\n",
       "      <td>3516.675524</td>\n",
       "      <td>77.950000</td>\n",
       "    </tr>\n",
       "    <tr>\n",
       "      <th>max</th>\n",
       "      <td>9.223372e+18</td>\n",
       "      <td>1.712016e+09</td>\n",
       "      <td>78607.583755</td>\n",
       "      <td>15883.083333</td>\n",
       "    </tr>\n",
       "  </tbody>\n",
       "</table>\n",
       "</div>"
      ],
      "text/plain": [
       "         lineage_id  fp_event_timestamp  distance_meters  distance_min\n",
       "count  1.981300e+04        1.981300e+04     19813.000000  19813.000000\n",
       "mean   9.223372e+18        1.711599e+09      3258.848641    126.846741\n",
       "std    1.539235e+09        2.517057e+05      6133.146130    591.233040\n",
       "min    9.223372e+18        1.711167e+09         0.000000      0.050000\n",
       "25%    9.223372e+18        1.711381e+09       391.329917     12.850000\n",
       "50%    9.223372e+18        1.711577e+09      1290.562858     30.533333\n",
       "75%    9.223372e+18        1.711817e+09      3516.675524     77.950000\n",
       "max    9.223372e+18        1.712016e+09     78607.583755  15883.083333"
      ]
     },
     "execution_count": 14,
     "metadata": {},
     "output_type": "execute_result"
    }
   ],
   "source": [
    "# Statistical description for true negative\n",
    "\n",
    "df_tn_grouped.describe()"
   ]
  },
  {
   "cell_type": "code",
   "execution_count": 15,
   "id": "541bfa47-b64f-40ea-8dc6-ecfbff32f974",
   "metadata": {},
   "outputs": [
    {
     "data": {
      "text/plain": [
       "Text(0.5, 9.444444444444438, 'Minimum distance to the nearest stop (m)')"
      ]
     },
     "execution_count": 15,
     "metadata": {},
     "output_type": "execute_result"
    },
    {
     "data": {
      "image/png": "[encoded data removed]",
      "text/plain": [
       "<Figure size 500x500 with 1 Axes>"
      ]
     },
     "metadata": {},
     "output_type": "display_data"
    }
   ],
   "source": [
    "# Plot the histogram thanks to the displot function\n",
    "sns.displot( data=df_fp_grouped['distance_meters'])\n",
    "\n",
    "plt.ylabel('False positive stops counts')\n",
    "plt.xlabel('Minimum distance to the nearest stop (m)')\n",
    "\n",
    "#plt.xlim(-10, 10)\n",
    "#plt.ylim(-10, 10)\n",
    "#plt.savefig('plot2.png')"
   ]
  },
  {
   "cell_type": "code",
   "execution_count": 16,
   "id": "84f10920-e3f6-49dd-8983-6b73d4cbd567",
   "metadata": {},
   "outputs": [
    {
     "data": {
      "image/png": "[encoded data removed]",
      "text/plain": [
       "<Figure size 640x480 with 2 Axes>"
      ]
     },
     "metadata": {},
     "output_type": "display_data"
    }
   ],
   "source": [
    "# Boxplot compared for false positive and true negative \n",
    "\n",
    "fig, axes = plt.subplots(1, 2, sharex=True)#, sharey= True)\n",
    "#fig.suptitle('Results analysis', fontsize=16)\n",
    "\n",
    "col1 = '#bc4749'\n",
    "col2 = '#415a77'\n",
    "\n",
    "sns.boxplot(data=df_fp_grouped['distance_meters'], showfliers = False, ax = axes[0], color = col1)\n",
    "#sns.boxplot(data=df_fp_grouped['distance_min'], showfliers = False, ax = axes[1,0])\n",
    "\n",
    "sns.boxplot(data=df_tn_grouped['distance_meters'], showfliers = False, ax = axes[1], color = col2)\n",
    "#sns.boxplot(data=df_tn_grouped['distance_min'], showfliers = False, ax = axes[1,1])\n",
    "\n",
    "axes[0].set_ylabel('Min spatial distance (m) to the nearest stop')\n",
    "axes[1].set_ylabel('')\n",
    "\n",
    "axes[0].set_xlabel('False Positive')\n",
    "axes[1].set_xlabel('True Negative')\n",
    "axes[1].yaxis.set_ticks_position('right')\n",
    "\n",
    "axes[0].spines['left'].set_color(col1)\n",
    "axes[0].spines['left'].set_linewidth(3)\n",
    "axes[0].xaxis.label.set_color(col1)\n",
    "axes[0].tick_params(axis='y', colors=col1)\n",
    "\n",
    "\n",
    "axes[1].spines['right'].set_color(col2)\n",
    "axes[1].spines['right'].set_linewidth(3)\n",
    "axes[1].xaxis.label.set_color(col2)\n",
    "axes[1].tick_params(axis='y', colors=col2)\n",
    "\n",
    "plt.tight_layout()\n",
    "plt.savefig('fp_tn_analysis.png', dpi=300)\n"
   ]
  },
  {
   "cell_type": "code",
   "execution_count": null,
   "id": "903e7a1b-3630-41ec-8482-fee2d4e70858",
   "metadata": {},
   "outputs": [],
   "source": []
  },
  {
   "cell_type": "code",
   "execution_count": null,
   "id": "ef731222-d9f9-4930-bd81-cad74624f68d",
   "metadata": {},
   "outputs": [],
   "source": []
  }
 ],
 "metadata": {
  "kernelspec": {
   "display_name": "Python 3 (ipykernel)",
   "language": "python",
   "name": "python3"
  },
  "language_info": {
   "codemirror_mode": {
    "name": "ipython",
    "version": 3
   },
   "file_extension": ".py",
   "mimetype": "text/x-python",
   "name": "python",
   "nbconvert_exporter": "python",
   "pygments_lexer": "ipython3",
   "version": "3.9.15"
  }
 },
 "nbformat": 4,
 "nbformat_minor": 5
}
